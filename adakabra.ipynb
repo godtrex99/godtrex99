{
  "nbformat": 4,
  "nbformat_minor": 0,
  "metadata": {
    "colab": {
      "provenance": [],
      "authorship_tag": "ABX9TyOAKpBB3TcgKJQuCs3lDdBg",
      "include_colab_link": true
    },
    "kernelspec": {
      "name": "python3",
      "display_name": "Python 3"
    },
    "language_info": {
      "name": "python"
    }
  },
  "cells": [
    {
      "cell_type": "markdown",
      "metadata": {
        "id": "view-in-github",
        "colab_type": "text"
      },
      "source": [
        "<a href=\"https://colab.research.google.com/github/godtrex99/godtrex99/blob/main/adakabra.ipynb\" target=\"_parent\"><img src=\"https://colab.research.google.com/assets/colab-badge.svg\" alt=\"Open In Colab\"/></a>"
      ]
    },
    {
      "cell_type": "code",
      "execution_count": null,
      "metadata": {
        "id": "DzmABN0Vfar8"
      },
      "outputs": [],
      "source": [
        "%cd /content\n",
        "\n",
        "%env TF_CPP_MIN_LOG_LEVEL=1\n",
        "\n",
        "!apt -y update -qq\n",
        "!wget https://github.com/camenduru/gperftools/releases/download/v1.0/libtcmalloc_minimal.so.4 -O /content/libtcmalloc_minimal.so.4\n",
        "%env LD_PRELOAD=/content/libtcmalloc_minimal.so.4\n",
        "\n",
        "!apt -y install -qq aria2 libcairo2-dev pkg-config python3-dev\n",
        "!pip install -q torch==2.0.1+cu118 torchvision==0.15.2+cu118 torchaudio==2.0.2+cu118 torchtext==0.15.2 torchdata==0.6.1 --extra-index-url https://download.pytorch.org/whl/cu118 -U\n",
        "!pip install -q xformers==0.0.20 triton==2.0.0 gradio_client==0.2.7 -U\n",
        "\n",
        "!git clone -b v2.6 https://github.com/camenduru/stable-diffusion-webui /content/vorst-cavry\n",
        "!git clone https://github.com/vorstcavry/vorstcavry-tunnels /content/vorst-cavry/extensions/tunnels\n",
        "!aria2c --console-log-level=error -c -x 16 -s 16 -k 1M https://huggingface.co/embed/upscale/resolve/main/4x-UltraSharp.pth -d /content/vorst-cavry/models/ESRGAN -o 4x-UltraSharp.pth\n",
        "!wget https://raw.githubusercontent.com/vorstcavry/s-scripts/main/run_n_times.py -O /content/vorst-cavry/scripts/run_n_times.py\n",
        "#install-bahan-dasar\n",
        "!git clone https://github.com/vorstcavry/lora /content/vorst-cavry/models/Lora/Lora-set\n",
        "!git clone https://github.com/vorstcavry/embeddings /content/vorst-cavry/embeddings/negative\n",
        "!git clone https://github.com/vorstcavry/Checkpoint-Model /content/vorst-cavry/models/Stable-diffusion/Checkpoint-Model\n",
        "#menghapus git\n",
        "!rm -rf /content/vorst-cavry/models/Stable-diffusion/Checkpoint-Model/.git\n",
        "!rm -rf /content/vorst-cavry/embeddings/negative/.git\n",
        "!rm -rf /content/vorst-cavry/models/Lora/Lora-set/.git\n",
        "#install-ekstension\n",
        "%cd /content/vorst-cavry/extensions\n",
        "!git clone https://tinyurl.com/controlnet-s\n",
        "!git clone https://tinyurl.com/depth-lib-hand\n",
        "!git clone https://github.com/hnmr293/posex\n",
        "!git clone https://github.com/BlafKing/sd-civitai-browser-plus\n",
        "!git clone https://github.com/vorstcavry/images-browser\n",
        "!git clone https://github.com/Iyashinouta/sd-model-downloader\n",
        "!git clone https://github.com/IDEA-Research/DWPose\n",
        "!git clone https://tinyurl.com/additional-networks-s\n",
        "!git clone https://github.com/fkunn1326/openpose-editor\n",
        "!git clone https://tinyurl.com/openpose-edit\n",
        "!git clone https://github.com/NoCrypt/inpaint-nav\n",
        "!git clone https://tinyurl.com/tagcomplete-1111\n",
        "!git clone https://tinyurl.com/batchlink-download\n",
        "!git clone https://tinyurl.com/catppuccin-themes-v\n",
        "!git clone https://tinyurl.com/aspect-ratio-v\n",
        "\n",
        "%cd /content/vorst-cavry\n",
        "!aria2c --console-log-level=error -c -x 16 -s 16 -k 1M https://huggingface.co/comfyanonymous/ControlNet-v1-1_fp16_safetensors/resolve/main/control_v11e_sd15_ip2p_fp16.safetensors -d /content/vorst-cavry/models/ControlNet -o control_v11e_sd15_ip2p.safetensors\n",
        "!aria2c --console-log-level=error -c -x 16 -s 16 -k 1M https://huggingface.co/comfyanonymous/ControlNet-v1-1_fp16_safetensors/resolve/main/control_v11f1p_sd15_depth_fp16.safetensors -d /content/vorst-cavry/models/ControlNet -o control_v11f1p_sd15_depth.safetensors\n",
        "!aria2c --console-log-level=error -c -x 16 -s 16 -k 1M https://huggingface.co/comfyanonymous/ControlNet-v1-1_fp16_safetensors/resolve/main/control_v11p_sd15_canny_fp16.safetensors -d /content/vorst-cavry/models/ControlNet -o control_v11p_sd15_canny.safetensors\n",
        "!aria2c --console-log-level=error -c -x 16 -s 16 -k 1M https://huggingface.co/comfyanonymous/ControlNet-v1-1_fp16_safetensors/resolve/main/control_v11p_sd15_inpaint_fp16.safetensors -d /content/vorst-cavry/models/ControlNet -o control_v11p_sd15_inpaint.safetensors\n",
        "!aria2c --console-log-level=error -c -x 16 -s 16 -k 1M https://huggingface.co/comfyanonymous/ControlNet-v1-1_fp16_safetensors/resolve/main/control_v11p_sd15_lineart_fp16.safetensors -d /content/vorst-cavry/models/ControlNet -o control_v11f1p_sd15_depth.safetensors\n",
        "!aria2c --console-log-level=error -c -x 16 -s 16 -k 1M https://huggingface.co/comfyanonymous/ControlNet-v1-1_fp16_safetensors/resolve/main/control_v11p_sd15_mlsd_fp16.safetensors -d /content/vorst-cavry/models/ControlNet -o control_v11p_sd15_mlsd.safetensors\n",
        "!aria2c --console-log-level=error -c -x 16 -s 16 -k 1M https://huggingface.co/comfyanonymous/ControlNet-v1-1_fp16_safetensors/resolve/main/control_v11p_sd15_normalbae_fp16.safetensors -d /content/vorst-cavry/models/ControlNet -o control_v11p_sd15_normalbae.safetensors\n",
        "!aria2c --console-log-level=error -c -x 16 -s 16 -k 1M https://huggingface.co/comfyanonymous/ControlNet-v1-1_fp16_safetensors/resolve/main/control_v11p_sd15_openpose_fp16.safetensors -d /content/vorst-cavry/models/ControlNet -o control_v11p_sd15_openpose.safetensors\n",
        "!aria2c --console-log-level=error -c -x 16 -s 16 -k 1M https://huggingface.co/comfyanonymous/ControlNet-v1-1_fp16_safetensors/resolve/main/control_v11p_sd15_scribble_fp16.safetensors -d /content/vorst-cavry/models/ControlNet -o control_v11p_sd15_scribble.safetensors\n",
        "!aria2c --console-log-level=error -c -x 16 -s 16 -k 1M https://huggingface.co/comfyanonymous/ControlNet-v1-1_fp16_safetensors/resolve/main/control_v11p_sd15_seg_fp16.safetensors -d /content/vorst-cavry/models/ControlNet -o control_v11p_sd15_seg.safetensors\n",
        "!aria2c --console-log-level=error -c -x 16 -s 16 -k 1M https://huggingface.co/comfyanonymous/ControlNet-v1-1_fp16_safetensors/resolve/main/control_v11p_sd15_softedge_fp16.safetensors -d /content/vorst-cavry/models/ControlNet -o control_v11p_sd15_softedge.safetensors\n",
        "!aria2c --console-log-level=error -c -x 16 -s 16 -k 1M https://huggingface.co/comfyanonymous/ControlNet-v1-1_fp16_safetensors/resolve/main/control_v11p_sd15s2_lineart_anime_fp16.safetensors -d /content/vorst-cavry/models/ControlNet -o control_v11p_sd15s2_lineart_anime.safetensors\n",
        "!aria2c --console-log-level=error -c -x 16 -s 16 -k 1M https://huggingface.co/comfyanonymous/ControlNet-v1-1_fp16_safetensors/resolve/main/control_v11f1e_sd15_tile_fp16.safetensors -d /content/vorst-cavry/models/ControlNet -o control_v11f1e_sd15_tile_fp16.safetensors\n",
        "\n",
        "#install-vae-untuk-model-checkpoint-yang-akan-dipakai\n",
        "!aria2c --console-log-level=error -c -x 16 -s 16 -k 1M https://huggingface.co/stabilityai/sd-vae-ft-mse-original/resolve/main/vae-ft-mse-840000-ema-pruned.ckpt -d /content/vorst-cavry/models/VAE -o vae-ft-mse-840000-ema-pruned.ckpt\n",
        "!aria2c --console-log-level=error -c -x 16 -s 16 -k 1M https://huggingface.co/vorstcavry/vaecollection1/resolve/main/testclearvae.safetensors -d /content/vorst-cavry/models/VAE -o testclearvae.safetensors\n",
        "\n",
        "#install-lora\n",
        "!aria2c --console-log-level=error -c -x 16 -s 16 -k 1M https://huggingface.co/vorstcavry/loraasia1/resolve/main/japaneseDollLikeness_v15.safetensors -d /content/vorst-cavry/models/Lora/Lora-set -o japaneseDollLikeness_v15.safetensors\n",
        "!aria2c --console-log-level=error -c -x 16 -s 16 -k 1M https://huggingface.co/vorstcavry/loraasia1/resolve/main/koreanDollLikeness_v20.safetensors -d /content/vorst-cavry/models/Lora/Lora-set -o koreanDollLikeness_v20.safetensors\n",
        "!aria2c --console-log-level=error -c -x 16 -s 16 -k 1M https://huggingface.co/vorstcavry/loraasia1/resolve/main/taiwanDollLikeness_v15.safetensors -d /content/vorst-cavry/models/Lora/Lora-set -o taiwanDollLikeness_v15.safetensors\n",
        "\n",
        "#install-Checkpoint\n",
        "!aria2c --console-log-level=error -c -x 16 -s 16 -k 1M https://huggingface.co/AnonPerson/ChilloutMix/resolve/main/ChilloutMix-ni-fp16.safetensors -d /content/vorst-cavry/models/Stable-diffusion -o ChilloutMix-ni-fp16.safetensors\n",
        "!aria2c --console-log-level=error -c -x 16 -s 16 -k 1M https://huggingface.co/vorstcavry/mymodel1/resolve/main/Cavry_V2.safetensors -d /content/vorst-cavry/models/Stable-diffusion -o Cavry_V2.safetensors\n",
        "#intsall-Preview-Checkpoint\n",
        "!aria2c --console-log-level=error -c -x 16 -s 16 -k 1M https://huggingface.co/vorstcavry/LoRA-set1/resolve/main/ChilloutMix-ni-fp16.preview.png -d /content/vorst-cavry/models/Stable-diffusion -o ChilloutMix-ni-fp16.preview.png\n",
        "!aria2c --console-log-level=error -c -x 16 -s 16 -k 1M https://huggingface.co/vorstcavry/mymodel1/resolve/main/Cavry_V2.preview.png -d /content/vorst-cavry/models/Stable-diffusion -o Cavry_V2.preview.png\n",
        "\n",
        "\n",
        "!sed -i -e '''/from modules import launch_utils/a\\import os''' /content/vorst-cavry/launch.py\n",
        "!sed -i -e '''/        prepare_environment()/a\\        os.system\\(f\\\"\"\"sed -i -e ''\\\"s/dict()))/dict())).cuda()/g\\\"'' /content/vorst-cavry/repositories/stable-diffusion-stability-ai/ldm/util.py\"\"\")''' /content/vorst-cavry/launch.py\n",
        "!sed -i -e 's/\\[\"sd_model_checkpoint\"\\]/\\[\"sd_model_checkpoint\",\"sd_vae\",\"CLIP_stop_at_last_layers\"\\]/g' /content/vorst-cavry/modules/shared.py\n",
        "\n",
        "!python launch.py --listen --xformers --enable-insecure-extension-access --theme dark --gradio-queue --multiple"
      ]
    }
  ]
}